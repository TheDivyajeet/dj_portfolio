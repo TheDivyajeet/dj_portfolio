{
 "cells": [
  {
   "cell_type": "code",
   "execution_count": 1,
   "id": "40879c2f",
   "metadata": {},
   "outputs": [],
   "source": [
    "import pandas as pd"
   ]
  },
  {
   "cell_type": "code",
   "execution_count": 2,
   "id": "71446f9f",
   "metadata": {},
   "outputs": [],
   "source": [
    "# Question 1 - Load the dataset into a pandas dataframe. Name the variable as “survey”.\n",
    "\n",
    "survey = pd.read_csv('Survey Dataset - Technical Interview.csv')"
   ]
  },
  {
   "cell_type": "code",
   "execution_count": 3,
   "id": "703a4d31",
   "metadata": {},
   "outputs": [
    {
     "data": {
      "text/html": [
       "<div>\n",
       "<style scoped>\n",
       "    .dataframe tbody tr th:only-of-type {\n",
       "        vertical-align: middle;\n",
       "    }\n",
       "\n",
       "    .dataframe tbody tr th {\n",
       "        vertical-align: top;\n",
       "    }\n",
       "\n",
       "    .dataframe thead th {\n",
       "        text-align: right;\n",
       "    }\n",
       "</style>\n",
       "<table border=\"1\" class=\"dataframe\">\n",
       "  <thead>\n",
       "    <tr style=\"text-align: right;\">\n",
       "      <th></th>\n",
       "      <th>response_id</th>\n",
       "      <th>collection_date</th>\n",
       "      <th>urban_rural</th>\n",
       "      <th>education</th>\n",
       "      <th>income</th>\n",
       "      <th>Vote_Now</th>\n",
       "      <th>Past_Vote</th>\n",
       "      <th>CM_satisfaction</th>\n",
       "      <th>MLA_satisfaction</th>\n",
       "      <th>age</th>\n",
       "      <th>gender</th>\n",
       "      <th>assembly_no</th>\n",
       "      <th>category</th>\n",
       "      <th>weight</th>\n",
       "    </tr>\n",
       "  </thead>\n",
       "  <tbody>\n",
       "    <tr>\n",
       "      <th>0</th>\n",
       "      <td>1</td>\n",
       "      <td>5-24-2017</td>\n",
       "      <td>Rural</td>\n",
       "      <td>12th Pass</td>\n",
       "      <td>₹ 30,000 - ₹ 50,000</td>\n",
       "      <td>BJP</td>\n",
       "      <td>BJP</td>\n",
       "      <td>Fully Dissatisfied</td>\n",
       "      <td>Fully Dissatisfied</td>\n",
       "      <td>26</td>\n",
       "      <td>Male</td>\n",
       "      <td>211</td>\n",
       "      <td>Gen</td>\n",
       "      <td>0.346969</td>\n",
       "    </tr>\n",
       "    <tr>\n",
       "      <th>1</th>\n",
       "      <td>2</td>\n",
       "      <td>5-24-2017</td>\n",
       "      <td>Rural</td>\n",
       "      <td>Graduate</td>\n",
       "      <td>₹ 20,000 - ₹ 30,000</td>\n",
       "      <td>RLSP</td>\n",
       "      <td>JD(U)</td>\n",
       "      <td>Somewhat Satisfied</td>\n",
       "      <td>Fully Dissatisfied</td>\n",
       "      <td>34</td>\n",
       "      <td>Male</td>\n",
       "      <td>189</td>\n",
       "      <td>BC</td>\n",
       "      <td>0.603419</td>\n",
       "    </tr>\n",
       "    <tr>\n",
       "      <th>2</th>\n",
       "      <td>3</td>\n",
       "      <td>5-24-2017</td>\n",
       "      <td>Rural</td>\n",
       "      <td>Graduate</td>\n",
       "      <td>₹ 5,000 - ₹ 10,000</td>\n",
       "      <td>JAP(L)</td>\n",
       "      <td>BJP</td>\n",
       "      <td>Fully Dissatisfied</td>\n",
       "      <td>Somewhat Satisfied</td>\n",
       "      <td>25</td>\n",
       "      <td>Male</td>\n",
       "      <td>191</td>\n",
       "      <td>Gen</td>\n",
       "      <td>0.673762</td>\n",
       "    </tr>\n",
       "  </tbody>\n",
       "</table>\n",
       "</div>"
      ],
      "text/plain": [
       "   response_id collection_date urban_rural  education               income  \\\n",
       "0            1       5-24-2017       Rural  12th Pass  ₹ 30,000 - ₹ 50,000   \n",
       "1            2       5-24-2017       Rural   Graduate  ₹ 20,000 - ₹ 30,000   \n",
       "2            3       5-24-2017       Rural   Graduate   ₹ 5,000 - ₹ 10,000   \n",
       "\n",
       "  Vote_Now Past_Vote     CM_satisfaction    MLA_satisfaction age gender  \\\n",
       "0      BJP       BJP  Fully Dissatisfied  Fully Dissatisfied  26   Male   \n",
       "1     RLSP     JD(U)  Somewhat Satisfied  Fully Dissatisfied  34   Male   \n",
       "2   JAP(L)       BJP  Fully Dissatisfied  Somewhat Satisfied  25   Male   \n",
       "\n",
       "   assembly_no category    weight  \n",
       "0          211      Gen  0.346969  \n",
       "1          189       BC  0.603419  \n",
       "2          191      Gen  0.673762  "
      ]
     },
     "execution_count": 3,
     "metadata": {},
     "output_type": "execute_result"
    }
   ],
   "source": [
    "survey.head(3)"
   ]
  },
  {
   "cell_type": "code",
   "execution_count": 4,
   "id": "88e5908c",
   "metadata": {},
   "outputs": [
    {
     "data": {
      "text/plain": [
       "5-24-2017    1479\n",
       "5-25-2017     998\n",
       "5-28-2017     761\n",
       "5-27-2017     665\n",
       "5-29-2017     620\n",
       "6-1-2017      607\n",
       "5-26-2017     598\n",
       "5-30-2017     582\n",
       "5-31-2017     557\n",
       "Name: collection_date, dtype: int64"
      ]
     },
     "execution_count": 4,
     "metadata": {},
     "output_type": "execute_result"
    }
   ],
   "source": [
    "# Question 2 - How many samples were collected on each day?\n",
    "\n",
    "survey['collection_date'].value_counts()"
   ]
  },
  {
   "cell_type": "code",
   "execution_count": 5,
   "id": "bea73907",
   "metadata": {},
   "outputs": [
    {
     "data": {
      "text/html": [
       "<div>\n",
       "<style scoped>\n",
       "    .dataframe tbody tr th:only-of-type {\n",
       "        vertical-align: middle;\n",
       "    }\n",
       "\n",
       "    .dataframe tbody tr th {\n",
       "        vertical-align: top;\n",
       "    }\n",
       "\n",
       "    .dataframe thead th {\n",
       "        text-align: right;\n",
       "    }\n",
       "</style>\n",
       "<table border=\"1\" class=\"dataframe\">\n",
       "  <thead>\n",
       "    <tr style=\"text-align: right;\">\n",
       "      <th></th>\n",
       "      <th>response_id</th>\n",
       "      <th>collection_date</th>\n",
       "      <th>urban_rural</th>\n",
       "      <th>education</th>\n",
       "      <th>income</th>\n",
       "      <th>Vote_Now</th>\n",
       "      <th>Past_Vote</th>\n",
       "      <th>CM_satisfaction</th>\n",
       "      <th>MLA_satisfaction</th>\n",
       "      <th>age</th>\n",
       "      <th>gender</th>\n",
       "      <th>assembly_no</th>\n",
       "      <th>category</th>\n",
       "      <th>weight</th>\n",
       "    </tr>\n",
       "  </thead>\n",
       "  <tbody>\n",
       "    <tr>\n",
       "      <th>0</th>\n",
       "      <td>1</td>\n",
       "      <td>5-24-2017</td>\n",
       "      <td>Rural</td>\n",
       "      <td>12th Pass</td>\n",
       "      <td>₹ 30,000 - ₹ 50,000</td>\n",
       "      <td>BJP</td>\n",
       "      <td>BJP</td>\n",
       "      <td>Fully Dissatisfied</td>\n",
       "      <td>Fully Dissatisfied</td>\n",
       "      <td>26</td>\n",
       "      <td>Male</td>\n",
       "      <td>211</td>\n",
       "      <td>Gen</td>\n",
       "      <td>0.346969</td>\n",
       "    </tr>\n",
       "    <tr>\n",
       "      <th>1</th>\n",
       "      <td>2</td>\n",
       "      <td>5-24-2017</td>\n",
       "      <td>Rural</td>\n",
       "      <td>Graduate</td>\n",
       "      <td>₹ 20,000 - ₹ 30,000</td>\n",
       "      <td>RLSP</td>\n",
       "      <td>JD(U)</td>\n",
       "      <td>Somewhat Satisfied</td>\n",
       "      <td>Fully Dissatisfied</td>\n",
       "      <td>34</td>\n",
       "      <td>Male</td>\n",
       "      <td>189</td>\n",
       "      <td>BC</td>\n",
       "      <td>0.603419</td>\n",
       "    </tr>\n",
       "    <tr>\n",
       "      <th>2</th>\n",
       "      <td>3</td>\n",
       "      <td>5-24-2017</td>\n",
       "      <td>Rural</td>\n",
       "      <td>Graduate</td>\n",
       "      <td>₹ 5,000 - ₹ 10,000</td>\n",
       "      <td>JAP(L)</td>\n",
       "      <td>BJP</td>\n",
       "      <td>Fully Dissatisfied</td>\n",
       "      <td>Somewhat Satisfied</td>\n",
       "      <td>25</td>\n",
       "      <td>Male</td>\n",
       "      <td>191</td>\n",
       "      <td>Gen</td>\n",
       "      <td>0.673762</td>\n",
       "    </tr>\n",
       "  </tbody>\n",
       "</table>\n",
       "</div>"
      ],
      "text/plain": [
       "   response_id collection_date urban_rural  education               income  \\\n",
       "0            1       5-24-2017       Rural  12th Pass  ₹ 30,000 - ₹ 50,000   \n",
       "1            2       5-24-2017       Rural   Graduate  ₹ 20,000 - ₹ 30,000   \n",
       "2            3       5-24-2017       Rural   Graduate   ₹ 5,000 - ₹ 10,000   \n",
       "\n",
       "  Vote_Now Past_Vote     CM_satisfaction    MLA_satisfaction age gender  \\\n",
       "0      BJP       BJP  Fully Dissatisfied  Fully Dissatisfied  26   Male   \n",
       "1     RLSP     JD(U)  Somewhat Satisfied  Fully Dissatisfied  34   Male   \n",
       "2   JAP(L)       BJP  Fully Dissatisfied  Somewhat Satisfied  25   Male   \n",
       "\n",
       "   assembly_no category    weight  \n",
       "0          211      Gen  0.346969  \n",
       "1          189       BC  0.603419  \n",
       "2          191      Gen  0.673762  "
      ]
     },
     "execution_count": 5,
     "metadata": {},
     "output_type": "execute_result"
    }
   ],
   "source": [
    "# Question 3 - What proportion of the total respondents were aged less than 45?\n",
    "\n",
    "survey.head(3)"
   ]
  },
  {
   "cell_type": "code",
   "execution_count": 6,
   "id": "59f9eaf0",
   "metadata": {},
   "outputs": [
    {
     "data": {
      "text/plain": [
       "array(['26', '34', '25', '36', '22', '38', '23', '42', '51', '29', '24',\n",
       "       '30', '39', '37', '19', '44', '53', '32', '21', '18', '20', '27',\n",
       "       '48', '28', '45', '74', '35', '31', '70', '40', '49', '46', '43',\n",
       "       '41', '33', '58', '24ko', '56', '50', '55', '54', '62', '60', '59',\n",
       "       '47', '61', '52', '66', '57', '67', '65', '71', '63', '64', '68',\n",
       "       '69', '99', '72', '75', '76'], dtype=object)"
      ]
     },
     "execution_count": 6,
     "metadata": {},
     "output_type": "execute_result"
    }
   ],
   "source": [
    "survey['age'].unique()"
   ]
  },
  {
   "cell_type": "code",
   "execution_count": 7,
   "id": "fb78ab0f",
   "metadata": {},
   "outputs": [],
   "source": [
    "# Replace 24ko with 24\n",
    "\n",
    "survey['age'].replace({'24ko':24} , inplace = True)"
   ]
  },
  {
   "cell_type": "code",
   "execution_count": 8,
   "id": "b89236a7",
   "metadata": {},
   "outputs": [
    {
     "data": {
      "text/plain": [
       "array(['26', '34', '25', '36', '22', '38', '23', '42', '51', '29', '24',\n",
       "       '30', '39', '37', '19', '44', '53', '32', '21', '18', '20', '27',\n",
       "       '48', '28', '45', '74', '35', '31', '70', '40', '49', '46', '43',\n",
       "       '41', '33', '58', 24, '56', '50', '55', '54', '62', '60', '59',\n",
       "       '47', '61', '52', '66', '57', '67', '65', '71', '63', '64', '68',\n",
       "       '69', '99', '72', '75', '76'], dtype=object)"
      ]
     },
     "execution_count": 8,
     "metadata": {},
     "output_type": "execute_result"
    }
   ],
   "source": [
    "survey['age'].unique()"
   ]
  },
  {
   "cell_type": "code",
   "execution_count": 9,
   "id": "45ff3a57",
   "metadata": {},
   "outputs": [],
   "source": [
    "# Convert age column from str datatype to int\n",
    "\n",
    "survey['age'] = survey['age'].astype(int)"
   ]
  },
  {
   "cell_type": "code",
   "execution_count": 10,
   "id": "dedc7ed9",
   "metadata": {},
   "outputs": [],
   "source": [
    "filt = survey['age'] < 45"
   ]
  },
  {
   "cell_type": "code",
   "execution_count": 11,
   "id": "c72b961f",
   "metadata": {},
   "outputs": [
    {
     "ename": "NameError",
     "evalue": "name 'df' is not defined",
     "output_type": "error",
     "traceback": [
      "\u001b[1;31m---------------------------------------------------------------------------\u001b[0m",
      "\u001b[1;31mNameError\u001b[0m                                 Traceback (most recent call last)",
      "\u001b[1;32m~\\AppData\\Local\\Temp\\ipykernel_1560\\1677692986.py\u001b[0m in \u001b[0;36m<module>\u001b[1;34m\u001b[0m\n\u001b[1;32m----> 1\u001b[1;33m \u001b[0mdf\u001b[0m\u001b[1;33m[\u001b[0m\u001b[0mfilt\u001b[0m\u001b[1;33m]\u001b[0m\u001b[1;33m\u001b[0m\u001b[1;33m\u001b[0m\u001b[0m\n\u001b[0m",
      "\u001b[1;31mNameError\u001b[0m: name 'df' is not defined"
     ]
    }
   ],
   "source": [
    "df[filt]"
   ]
  },
  {
   "cell_type": "code",
   "execution_count": null,
   "id": "244aa444",
   "metadata": {},
   "outputs": [],
   "source": [
    "# To find the proportion - \n",
    "\n",
    "df[filt].shape"
   ]
  },
  {
   "cell_type": "code",
   "execution_count": null,
   "id": "c75a2f24",
   "metadata": {},
   "outputs": [],
   "source": [
    "df['age'].shape"
   ]
  },
  {
   "cell_type": "code",
   "execution_count": null,
   "id": "1076784b",
   "metadata": {},
   "outputs": [],
   "source": [
    "6399/6867 * 100 "
   ]
  },
  {
   "cell_type": "code",
   "execution_count": null,
   "id": "0655b937",
   "metadata": {},
   "outputs": [],
   "source": [
    "# Question 4 - Create a new column in the dataframe “age_group”. \n",
    "# This column should contain the age group the respondent belongs to. The age groups are 18-24, 25-40, 41-55 and 55+. \n"
   ]
  },
  {
   "cell_type": "code",
   "execution_count": null,
   "id": "31451c2a",
   "metadata": {},
   "outputs": [],
   "source": [
    "survey.head(3)"
   ]
  },
  {
   "cell_type": "code",
   "execution_count": null,
   "id": "b80c7e95",
   "metadata": {},
   "outputs": [],
   "source": [
    "survey['age_group'] = survey['age'].replace({range(18,24) : '18-24' , range(25,40) : '25-40', range(41,55) : '41-44', range(55,100) : '55+'})"
   ]
  },
  {
   "cell_type": "code",
   "execution_count": null,
   "id": "ccd1b38a",
   "metadata": {},
   "outputs": [],
   "source": [
    "survey.head(10)"
   ]
  },
  {
   "cell_type": "code",
   "execution_count": null,
   "id": "a21c5d6a",
   "metadata": {},
   "outputs": [],
   "source": [
    "# Question 5 - How many samples were collected for each age-group? Which age-group had the most samples?\n",
    "\n",
    "survey.groupby('age_group').response_id.sum()"
   ]
  },
  {
   "cell_type": "code",
   "execution_count": null,
   "id": "41f55437",
   "metadata": {},
   "outputs": [],
   "source": [
    "# Question 6 - What proportion of the respondents had opted for the RJD party in both the Vote_Now and the Past_Vote questions?\n",
    "\n",
    "filt = (survey['Vote_Now'] == 'RJD') & (survey['Past_Vote'] == 'RJD')"
   ]
  },
  {
   "cell_type": "code",
   "execution_count": null,
   "id": "dc2e5026",
   "metadata": {},
   "outputs": [],
   "source": [
    "survey[filt].shape"
   ]
  },
  {
   "cell_type": "code",
   "execution_count": null,
   "id": "87176773",
   "metadata": {},
   "outputs": [],
   "source": [
    "survey['Vote_Now'].shape"
   ]
  },
  {
   "cell_type": "code",
   "execution_count": null,
   "id": "9ebb26ff",
   "metadata": {},
   "outputs": [],
   "source": [
    "survey['Past_Vote'].shape"
   ]
  },
  {
   "cell_type": "code",
   "execution_count": null,
   "id": "a4296074",
   "metadata": {},
   "outputs": [],
   "source": [
    "811/6867 * 100"
   ]
  },
  {
   "cell_type": "code",
   "execution_count": 13,
   "id": "9ee68133",
   "metadata": {},
   "outputs": [
    {
     "data": {
      "text/html": [
       "<div>\n",
       "<style scoped>\n",
       "    .dataframe tbody tr th:only-of-type {\n",
       "        vertical-align: middle;\n",
       "    }\n",
       "\n",
       "    .dataframe tbody tr th {\n",
       "        vertical-align: top;\n",
       "    }\n",
       "\n",
       "    .dataframe thead th {\n",
       "        text-align: right;\n",
       "    }\n",
       "</style>\n",
       "<table border=\"1\" class=\"dataframe\">\n",
       "  <thead>\n",
       "    <tr style=\"text-align: right;\">\n",
       "      <th></th>\n",
       "      <th>response_id</th>\n",
       "      <th>collection_date</th>\n",
       "      <th>urban_rural</th>\n",
       "      <th>education</th>\n",
       "      <th>income</th>\n",
       "      <th>Vote_Now</th>\n",
       "      <th>Past_Vote</th>\n",
       "      <th>CM_satisfaction</th>\n",
       "      <th>MLA_satisfaction</th>\n",
       "      <th>age</th>\n",
       "      <th>gender</th>\n",
       "      <th>assembly_no</th>\n",
       "      <th>category</th>\n",
       "      <th>weight</th>\n",
       "    </tr>\n",
       "  </thead>\n",
       "  <tbody>\n",
       "    <tr>\n",
       "      <th>0</th>\n",
       "      <td>1</td>\n",
       "      <td>5-24-2017</td>\n",
       "      <td>Rural</td>\n",
       "      <td>12th Pass</td>\n",
       "      <td>₹ 30,000 - ₹ 50,000</td>\n",
       "      <td>BJP</td>\n",
       "      <td>BJP</td>\n",
       "      <td>Fully Dissatisfied</td>\n",
       "      <td>Fully Dissatisfied</td>\n",
       "      <td>26</td>\n",
       "      <td>Male</td>\n",
       "      <td>211</td>\n",
       "      <td>Gen</td>\n",
       "      <td>0.346969</td>\n",
       "    </tr>\n",
       "    <tr>\n",
       "      <th>1</th>\n",
       "      <td>2</td>\n",
       "      <td>5-24-2017</td>\n",
       "      <td>Rural</td>\n",
       "      <td>Graduate</td>\n",
       "      <td>₹ 20,000 - ₹ 30,000</td>\n",
       "      <td>RLSP</td>\n",
       "      <td>JD(U)</td>\n",
       "      <td>Somewhat Satisfied</td>\n",
       "      <td>Fully Dissatisfied</td>\n",
       "      <td>34</td>\n",
       "      <td>Male</td>\n",
       "      <td>189</td>\n",
       "      <td>BC</td>\n",
       "      <td>0.603419</td>\n",
       "    </tr>\n",
       "    <tr>\n",
       "      <th>2</th>\n",
       "      <td>3</td>\n",
       "      <td>5-24-2017</td>\n",
       "      <td>Rural</td>\n",
       "      <td>Graduate</td>\n",
       "      <td>₹ 5,000 - ₹ 10,000</td>\n",
       "      <td>JAP(L)</td>\n",
       "      <td>BJP</td>\n",
       "      <td>Fully Dissatisfied</td>\n",
       "      <td>Somewhat Satisfied</td>\n",
       "      <td>25</td>\n",
       "      <td>Male</td>\n",
       "      <td>191</td>\n",
       "      <td>Gen</td>\n",
       "      <td>0.673762</td>\n",
       "    </tr>\n",
       "  </tbody>\n",
       "</table>\n",
       "</div>"
      ],
      "text/plain": [
       "   response_id collection_date urban_rural  education               income  \\\n",
       "0            1       5-24-2017       Rural  12th Pass  ₹ 30,000 - ₹ 50,000   \n",
       "1            2       5-24-2017       Rural   Graduate  ₹ 20,000 - ₹ 30,000   \n",
       "2            3       5-24-2017       Rural   Graduate   ₹ 5,000 - ₹ 10,000   \n",
       "\n",
       "  Vote_Now Past_Vote     CM_satisfaction    MLA_satisfaction  age gender  \\\n",
       "0      BJP       BJP  Fully Dissatisfied  Fully Dissatisfied   26   Male   \n",
       "1     RLSP     JD(U)  Somewhat Satisfied  Fully Dissatisfied   34   Male   \n",
       "2   JAP(L)       BJP  Fully Dissatisfied  Somewhat Satisfied   25   Male   \n",
       "\n",
       "   assembly_no category    weight  \n",
       "0          211      Gen  0.346969  \n",
       "1          189       BC  0.603419  \n",
       "2          191      Gen  0.673762  "
      ]
     },
     "execution_count": 13,
     "metadata": {},
     "output_type": "execute_result"
    }
   ],
   "source": [
    "# Question 7 - For each day of sample collection, determine the proportion of respondents who were fully satisfied with the performance of the CM. \n",
    "# So if there were a total of 1000 samples on day 1 and 300 out of those said they were fully satisfied, then our answer for that day would be 0.3.\n",
    "\n",
    "\n",
    "survey.head(3)"
   ]
  },
  {
   "cell_type": "code",
   "execution_count": 26,
   "id": "7a592c81",
   "metadata": {},
   "outputs": [],
   "source": [
    "filt = survey['CM_satisfaction'] == 'Fully Satisfied'"
   ]
  },
  {
   "cell_type": "code",
   "execution_count": 31,
   "id": "7377ffe5",
   "metadata": {},
   "outputs": [],
   "source": [
    "df2 = survey.groupby('collection_date').CM_satisfaction.count()"
   ]
  },
  {
   "cell_type": "code",
   "execution_count": 32,
   "id": "0940dc7d",
   "metadata": {},
   "outputs": [],
   "source": [
    "df3 = survey[filt].groupby('collection_date').CM_satisfaction.count()"
   ]
  },
  {
   "cell_type": "code",
   "execution_count": 35,
   "id": "6287431c",
   "metadata": {},
   "outputs": [
    {
     "data": {
      "text/plain": [
       "collection_date\n",
       "5-24-2017     9.871535\n",
       "5-25-2017     9.519038\n",
       "5-26-2017     9.866221\n",
       "5-27-2017     8.120301\n",
       "5-28-2017    12.089356\n",
       "5-29-2017    11.774194\n",
       "5-30-2017    11.168385\n",
       "5-31-2017    11.131059\n",
       "6-1-2017     12.355848\n",
       "Name: CM_satisfaction, dtype: float64"
      ]
     },
     "execution_count": 35,
     "metadata": {},
     "output_type": "execute_result"
    }
   ],
   "source": [
    "df3/df2 * 100"
   ]
  },
  {
   "cell_type": "code",
   "execution_count": 48,
   "id": "82b541c0",
   "metadata": {},
   "outputs": [],
   "source": [
    "# Question 8 - In a similar fashion create a day-wise proportion of respondents that opted fully dissatisfied with their MLA. \n",
    "# Create a line plot of the result with date on x-axis and proportions on the y-axis.\n",
    "\n",
    "filt = survey['MLA_satisfaction'] == 'Fully Dissatisfied'"
   ]
  },
  {
   "cell_type": "code",
   "execution_count": 108,
   "id": "2d912571",
   "metadata": {},
   "outputs": [],
   "source": [
    "df4 = survey[filt].groupby('collection_date').MLA_satisfaction.count()"
   ]
  },
  {
   "cell_type": "code",
   "execution_count": 105,
   "id": "4ac16416",
   "metadata": {},
   "outputs": [],
   "source": [
    "df5 = survey.groupby('collection_date').MLA_satisfaction.count()"
   ]
  },
  {
   "cell_type": "code",
   "execution_count": 117,
   "id": "a9a8ad4f",
   "metadata": {},
   "outputs": [],
   "source": [
    "a= df4/df5 * 100"
   ]
  },
  {
   "cell_type": "code",
   "execution_count": 57,
   "id": "94893f54",
   "metadata": {},
   "outputs": [
    {
     "data": {
      "text/plain": [
       "pandas.core.series.Series"
      ]
     },
     "execution_count": 57,
     "metadata": {},
     "output_type": "execute_result"
    }
   ],
   "source": [
    "# In order to plot line we have to first convert the data from series to dataframe\n",
    "\n",
    "\n",
    "type(a)"
   ]
  },
  {
   "cell_type": "code",
   "execution_count": 58,
   "id": "cd101c26",
   "metadata": {},
   "outputs": [
    {
     "data": {
      "text/plain": [
       "pandas.core.frame.DataFrame"
      ]
     },
     "execution_count": 58,
     "metadata": {},
     "output_type": "execute_result"
    }
   ],
   "source": [
    "type(survey)"
   ]
  },
  {
   "cell_type": "code",
   "execution_count": 59,
   "id": "6e31cf83",
   "metadata": {},
   "outputs": [
    {
     "data": {
      "text/plain": [
       "pandas.core.series.Series"
      ]
     },
     "execution_count": 59,
     "metadata": {},
     "output_type": "execute_result"
    }
   ],
   "source": [
    "type(a)"
   ]
  },
  {
   "cell_type": "code",
   "execution_count": 120,
   "id": "b444084d",
   "metadata": {},
   "outputs": [],
   "source": [
    "a = pd.DataFrame(a)"
   ]
  },
  {
   "cell_type": "code",
   "execution_count": 112,
   "id": "e55d4411",
   "metadata": {},
   "outputs": [
    {
     "data": {
      "text/plain": [
       "pandas.core.frame.DataFrame"
      ]
     },
     "execution_count": 112,
     "metadata": {},
     "output_type": "execute_result"
    }
   ],
   "source": [
    "type(a)"
   ]
  },
  {
   "cell_type": "code",
   "execution_count": 134,
   "id": "eb9529d5",
   "metadata": {},
   "outputs": [
    {
     "data": {
      "text/plain": [
       "<AxesSubplot:xlabel='collection_date'>"
      ]
     },
     "execution_count": 134,
     "metadata": {},
     "output_type": "execute_result"
    },
    {
     "data": {
      "image/png": "[encoded data removed]",
      "text/plain": [
       "<Figure size 640x480 with 1 Axes>"
      ]
     },
     "metadata": {},
     "output_type": "display_data"
    }
   ],
   "source": [
    "# To plot our proportion with respect to the collection date -\n",
    "\n",
    "a.collection_date.plot(kind = 'line')"
   ]
  },
  {
   "cell_type": "code",
   "execution_count": 94,
   "id": "8fadcb4f",
   "metadata": {},
   "outputs": [
    {
     "data": {
      "text/html": [
       "<div>\n",
       "<style scoped>\n",
       "    .dataframe tbody tr th:only-of-type {\n",
       "        vertical-align: middle;\n",
       "    }\n",
       "\n",
       "    .dataframe tbody tr th {\n",
       "        vertical-align: top;\n",
       "    }\n",
       "\n",
       "    .dataframe thead th {\n",
       "        text-align: right;\n",
       "    }\n",
       "</style>\n",
       "<table border=\"1\" class=\"dataframe\">\n",
       "  <thead>\n",
       "    <tr style=\"text-align: right;\">\n",
       "      <th></th>\n",
       "      <th>MLA_satisfaction</th>\n",
       "    </tr>\n",
       "    <tr>\n",
       "      <th>collection_date</th>\n",
       "      <th></th>\n",
       "    </tr>\n",
       "  </thead>\n",
       "  <tbody>\n",
       "    <tr>\n",
       "      <th>5-24-2017</th>\n",
       "      <td>59.972955</td>\n",
       "    </tr>\n",
       "    <tr>\n",
       "      <th>5-25-2017</th>\n",
       "      <td>63.126253</td>\n",
       "    </tr>\n",
       "    <tr>\n",
       "      <th>5-26-2017</th>\n",
       "      <td>59.030100</td>\n",
       "    </tr>\n",
       "  </tbody>\n",
       "</table>\n",
       "</div>"
      ],
      "text/plain": [
       "                 MLA_satisfaction\n",
       "collection_date                  \n",
       "5-24-2017               59.972955\n",
       "5-25-2017               63.126253\n",
       "5-26-2017               59.030100"
      ]
     },
     "execution_count": 94,
     "metadata": {},
     "output_type": "execute_result"
    }
   ],
   "source": [
    "a.head(3)"
   ]
  },
  {
   "cell_type": "code",
   "execution_count": 125,
   "id": "5d42265b",
   "metadata": {},
   "outputs": [],
   "source": [
    "a['collection_date'] = a['MLA_satisfaction'].str.split(' ' , expand = True)"
   ]
  },
  {
   "cell_type": "code",
   "execution_count": 101,
   "id": "bb1d5861",
   "metadata": {},
   "outputs": [],
   "source": [
    "df4 = pd.DataFrame(df4)"
   ]
  },
  {
   "cell_type": "code",
   "execution_count": 102,
   "id": "ea39b051",
   "metadata": {},
   "outputs": [
    {
     "data": {
      "text/plain": [
       "Index(['MLA_satisfaction'], dtype='object')"
      ]
     },
     "execution_count": 102,
     "metadata": {},
     "output_type": "execute_result"
    }
   ],
   "source": [
    "df4.columns"
   ]
  },
  {
   "cell_type": "code",
   "execution_count": 113,
   "id": "0375d747",
   "metadata": {},
   "outputs": [
    {
     "data": {
      "text/plain": [
       "collection_date\n",
       "5-24-2017    59.972955\n",
       "5-25-2017    63.126253\n",
       "5-26-2017    59.030100\n",
       "5-27-2017    60.601504\n",
       "5-28-2017    60.709593\n",
       "5-29-2017    56.451613\n",
       "5-30-2017    62.027491\n",
       "5-31-2017    57.630162\n",
       "6-1-2017     63.426689\n",
       "Name: MLA_satisfaction, dtype: float64"
      ]
     },
     "execution_count": 113,
     "metadata": {},
     "output_type": "execute_result"
    }
   ],
   "source": [
    "a['MLA_satisfaction']"
   ]
  },
  {
   "cell_type": "code",
   "execution_count": 116,
   "id": "08953f86",
   "metadata": {},
   "outputs": [
    {
     "data": {
      "text/plain": [
       "MLA_satisfaction    float64\n",
       "dtype: object"
      ]
     },
     "execution_count": 116,
     "metadata": {},
     "output_type": "execute_result"
    }
   ],
   "source": [
    "a.dtypes"
   ]
  },
  {
   "cell_type": "code",
   "execution_count": 119,
   "id": "f540cba0",
   "metadata": {},
   "outputs": [
    {
     "data": {
      "text/plain": [
       "collection_date\n",
       "5-24-2017    59.972955\n",
       "5-25-2017    63.126253\n",
       "5-26-2017    59.030100\n",
       "5-27-2017    60.601504\n",
       "5-28-2017    60.709593\n",
       "5-29-2017    56.451613\n",
       "5-30-2017    62.027491\n",
       "5-31-2017    57.630162\n",
       "6-1-2017     63.426689\n",
       "Name: MLA_satisfaction, dtype: float64"
      ]
     },
     "execution_count": 119,
     "metadata": {},
     "output_type": "execute_result"
    }
   ],
   "source": [
    "a"
   ]
  },
  {
   "cell_type": "code",
   "execution_count": 124,
   "id": "327cd2b2",
   "metadata": {},
   "outputs": [],
   "source": [
    "a['MLA_satisfaction'] = a['MLA_satisfaction'].astype(str )"
   ]
  },
  {
   "cell_type": "code",
   "execution_count": 126,
   "id": "7abad616",
   "metadata": {},
   "outputs": [
    {
     "data": {
      "text/plain": [
       "Index(['MLA_satisfaction', 'collection_date'], dtype='object')"
      ]
     },
     "execution_count": 126,
     "metadata": {},
     "output_type": "execute_result"
    }
   ],
   "source": [
    "a.columns"
   ]
  },
  {
   "cell_type": "code",
   "execution_count": 131,
   "id": "b7682470",
   "metadata": {},
   "outputs": [],
   "source": [
    "a['collection_date'] = a['collection_date'].str.split(' ',' ')"
   ]
  },
  {
   "cell_type": "code",
   "execution_count": 133,
   "id": "8ea6752d",
   "metadata": {},
   "outputs": [
    {
     "data": {
      "text/plain": [
       "collection_date\n",
       "5-24-2017   NaN\n",
       "5-25-2017   NaN\n",
       "5-26-2017   NaN\n",
       "5-27-2017   NaN\n",
       "5-28-2017   NaN\n",
       "5-29-2017   NaN\n",
       "5-30-2017   NaN\n",
       "5-31-2017   NaN\n",
       "6-1-2017    NaN\n",
       "Name: collection_date, dtype: float64"
      ]
     },
     "execution_count": 133,
     "metadata": {},
     "output_type": "execute_result"
    }
   ],
   "source": [
    "a['collection_date']"
   ]
  },
  {
   "cell_type": "code",
   "execution_count": 141,
   "id": "e1c4ca90",
   "metadata": {},
   "outputs": [
    {
     "data": {
      "text/plain": [
       "Series([], Name: collection_date, dtype: float64)"
      ]
     },
     "execution_count": 141,
     "metadata": {},
     "output_type": "execute_result"
    }
   ],
   "source": [
    "a['collection_date'].dropna()"
   ]
  },
  {
   "cell_type": "code",
   "execution_count": 143,
   "id": "aeb85a8c",
   "metadata": {},
   "outputs": [],
   "source": [
    "a.dropna(how='all', axis=1, inplace = True)"
   ]
  },
  {
   "cell_type": "code",
   "execution_count": 144,
   "id": "dade25a1",
   "metadata": {},
   "outputs": [
    {
     "ename": "KeyError",
     "evalue": "'collection_date'",
     "output_type": "error",
     "traceback": [
      "\u001b[1;31m---------------------------------------------------------------------------\u001b[0m",
      "\u001b[1;31mKeyError\u001b[0m                                  Traceback (most recent call last)",
      "\u001b[1;32mD:\\Anaconda\\lib\\site-packages\\pandas\\core\\indexes\\base.py\u001b[0m in \u001b[0;36mget_loc\u001b[1;34m(self, key, method, tolerance)\u001b[0m\n\u001b[0;32m   3628\u001b[0m             \u001b[1;32mtry\u001b[0m\u001b[1;33m:\u001b[0m\u001b[1;33m\u001b[0m\u001b[1;33m\u001b[0m\u001b[0m\n\u001b[1;32m-> 3629\u001b[1;33m                 \u001b[1;32mreturn\u001b[0m \u001b[0mself\u001b[0m\u001b[1;33m.\u001b[0m\u001b[0m_engine\u001b[0m\u001b[1;33m.\u001b[0m\u001b[0mget_loc\u001b[0m\u001b[1;33m(\u001b[0m\u001b[0mcasted_key\u001b[0m\u001b[1;33m)\u001b[0m\u001b[1;33m\u001b[0m\u001b[1;33m\u001b[0m\u001b[0m\n\u001b[0m\u001b[0;32m   3630\u001b[0m             \u001b[1;32mexcept\u001b[0m \u001b[0mKeyError\u001b[0m \u001b[1;32mas\u001b[0m \u001b[0merr\u001b[0m\u001b[1;33m:\u001b[0m\u001b[1;33m\u001b[0m\u001b[1;33m\u001b[0m\u001b[0m\n",
      "\u001b[1;32mD:\\Anaconda\\lib\\site-packages\\pandas\\_libs\\index.pyx\u001b[0m in \u001b[0;36mpandas._libs.index.IndexEngine.get_loc\u001b[1;34m()\u001b[0m\n",
      "\u001b[1;32mD:\\Anaconda\\lib\\site-packages\\pandas\\_libs\\index.pyx\u001b[0m in \u001b[0;36mpandas._libs.index.IndexEngine.get_loc\u001b[1;34m()\u001b[0m\n",
      "\u001b[1;32mpandas\\_libs\\hashtable_class_helper.pxi\u001b[0m in \u001b[0;36mpandas._libs.hashtable.PyObjectHashTable.get_item\u001b[1;34m()\u001b[0m\n",
      "\u001b[1;32mpandas\\_libs\\hashtable_class_helper.pxi\u001b[0m in \u001b[0;36mpandas._libs.hashtable.PyObjectHashTable.get_item\u001b[1;34m()\u001b[0m\n",
      "\u001b[1;31mKeyError\u001b[0m: 'collection_date'",
      "\nThe above exception was the direct cause of the following exception:\n",
      "\u001b[1;31mKeyError\u001b[0m                                  Traceback (most recent call last)",
      "\u001b[1;32m~\\AppData\\Local\\Temp\\ipykernel_1560\\2655446990.py\u001b[0m in \u001b[0;36m<module>\u001b[1;34m\u001b[0m\n\u001b[1;32m----> 1\u001b[1;33m \u001b[0ma\u001b[0m\u001b[1;33m[\u001b[0m\u001b[1;34m'collection_date'\u001b[0m\u001b[1;33m]\u001b[0m\u001b[1;33m\u001b[0m\u001b[1;33m\u001b[0m\u001b[0m\n\u001b[0m",
      "\u001b[1;32mD:\\Anaconda\\lib\\site-packages\\pandas\\core\\frame.py\u001b[0m in \u001b[0;36m__getitem__\u001b[1;34m(self, key)\u001b[0m\n\u001b[0;32m   3503\u001b[0m             \u001b[1;32mif\u001b[0m \u001b[0mself\u001b[0m\u001b[1;33m.\u001b[0m\u001b[0mcolumns\u001b[0m\u001b[1;33m.\u001b[0m\u001b[0mnlevels\u001b[0m \u001b[1;33m>\u001b[0m \u001b[1;36m1\u001b[0m\u001b[1;33m:\u001b[0m\u001b[1;33m\u001b[0m\u001b[1;33m\u001b[0m\u001b[0m\n\u001b[0;32m   3504\u001b[0m                 \u001b[1;32mreturn\u001b[0m \u001b[0mself\u001b[0m\u001b[1;33m.\u001b[0m\u001b[0m_getitem_multilevel\u001b[0m\u001b[1;33m(\u001b[0m\u001b[0mkey\u001b[0m\u001b[1;33m)\u001b[0m\u001b[1;33m\u001b[0m\u001b[1;33m\u001b[0m\u001b[0m\n\u001b[1;32m-> 3505\u001b[1;33m             \u001b[0mindexer\u001b[0m \u001b[1;33m=\u001b[0m \u001b[0mself\u001b[0m\u001b[1;33m.\u001b[0m\u001b[0mcolumns\u001b[0m\u001b[1;33m.\u001b[0m\u001b[0mget_loc\u001b[0m\u001b[1;33m(\u001b[0m\u001b[0mkey\u001b[0m\u001b[1;33m)\u001b[0m\u001b[1;33m\u001b[0m\u001b[1;33m\u001b[0m\u001b[0m\n\u001b[0m\u001b[0;32m   3506\u001b[0m             \u001b[1;32mif\u001b[0m \u001b[0mis_integer\u001b[0m\u001b[1;33m(\u001b[0m\u001b[0mindexer\u001b[0m\u001b[1;33m)\u001b[0m\u001b[1;33m:\u001b[0m\u001b[1;33m\u001b[0m\u001b[1;33m\u001b[0m\u001b[0m\n\u001b[0;32m   3507\u001b[0m                 \u001b[0mindexer\u001b[0m \u001b[1;33m=\u001b[0m \u001b[1;33m[\u001b[0m\u001b[0mindexer\u001b[0m\u001b[1;33m]\u001b[0m\u001b[1;33m\u001b[0m\u001b[1;33m\u001b[0m\u001b[0m\n",
      "\u001b[1;32mD:\\Anaconda\\lib\\site-packages\\pandas\\core\\indexes\\base.py\u001b[0m in \u001b[0;36mget_loc\u001b[1;34m(self, key, method, tolerance)\u001b[0m\n\u001b[0;32m   3629\u001b[0m                 \u001b[1;32mreturn\u001b[0m \u001b[0mself\u001b[0m\u001b[1;33m.\u001b[0m\u001b[0m_engine\u001b[0m\u001b[1;33m.\u001b[0m\u001b[0mget_loc\u001b[0m\u001b[1;33m(\u001b[0m\u001b[0mcasted_key\u001b[0m\u001b[1;33m)\u001b[0m\u001b[1;33m\u001b[0m\u001b[1;33m\u001b[0m\u001b[0m\n\u001b[0;32m   3630\u001b[0m             \u001b[1;32mexcept\u001b[0m \u001b[0mKeyError\u001b[0m \u001b[1;32mas\u001b[0m \u001b[0merr\u001b[0m\u001b[1;33m:\u001b[0m\u001b[1;33m\u001b[0m\u001b[1;33m\u001b[0m\u001b[0m\n\u001b[1;32m-> 3631\u001b[1;33m                 \u001b[1;32mraise\u001b[0m \u001b[0mKeyError\u001b[0m\u001b[1;33m(\u001b[0m\u001b[0mkey\u001b[0m\u001b[1;33m)\u001b[0m \u001b[1;32mfrom\u001b[0m \u001b[0merr\u001b[0m\u001b[1;33m\u001b[0m\u001b[1;33m\u001b[0m\u001b[0m\n\u001b[0m\u001b[0;32m   3632\u001b[0m             \u001b[1;32mexcept\u001b[0m \u001b[0mTypeError\u001b[0m\u001b[1;33m:\u001b[0m\u001b[1;33m\u001b[0m\u001b[1;33m\u001b[0m\u001b[0m\n\u001b[0;32m   3633\u001b[0m                 \u001b[1;31m# If we have a listlike key, _check_indexing_error will raise\u001b[0m\u001b[1;33m\u001b[0m\u001b[1;33m\u001b[0m\u001b[0m\n",
      "\u001b[1;31mKeyError\u001b[0m: 'collection_date'"
     ]
    }
   ],
   "source": [
    "a['collection_date']"
   ]
  },
  {
   "cell_type": "code",
   "execution_count": null,
   "id": "0c2588c0",
   "metadata": {},
   "outputs": [],
   "source": []
  }
 ],
 "metadata": {
  "kernelspec": {
   "display_name": "Python 3 (ipykernel)",
   "language": "python",
   "name": "python3"
  },
  "language_info": {
   "codemirror_mode": {
    "name": "ipython",
    "version": 3
   },
   "file_extension": ".py",
   "mimetype": "text/x-python",
   "name": "python",
   "nbconvert_exporter": "python",
   "pygments_lexer": "ipython3",
   "version": "3.9.13"
  }
 },
 "nbformat": 4,
 "nbformat_minor": 5
}
